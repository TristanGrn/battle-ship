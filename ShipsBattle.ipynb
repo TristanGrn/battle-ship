{
 "cells": [
  {
   "cell_type": "markdown",
   "metadata": {},
   "source": [
    "## Ressources pour le miniprojet:  Ship Battle Game"
   ]
  },
  {
   "cell_type": "markdown",
   "metadata": {},
   "source": [
    "La grille du jeu sera représentée par un tableau de tableaux:\n",
    "\n",
    "**Grille de 10x10** soit 10 lignes et 10 colonnes\n",
    "\n",
    "Définition du contenu de la grille:\n",
    "- 0 ==> mer\n",
    "- 1 ==> bateau\n",
    "- 2 ==> touché\n",
    "- 3 ==> coulé\n",
    "- 4 ==> dans l'eau!\n",
    "\n",
    "Un joueur possède:\n",
    "- 1 porte-avions (5 cases)\n",
    "- 1 croiseur (4 cases)\n",
    "- 2 contre-torpilleurs (3 cases)\n",
    "- 1 torpilleur (2 cases)\n"
   ]
  },
  {
   "cell_type": "markdown",
   "metadata": {},
   "source": [
    "## Première étape du travail:\n",
    "**Générer une grille avec de l'eau:** écrire une fonction permettant de générer un tableau de tableaux, avec des 0."
   ]
  },
  {
   "cell_type": "code",
   "execution_count": 1,
   "metadata": {
    "scrolled": true
   },
   "outputs": [
    {
     "data": {
      "image/png": "[encoded data removed]",
      "text/plain": [
       "<IPython.core.display.Image object>"
      ]
     },
     "execution_count": 1,
     "metadata": {
      "image/png": {
       "height": 200,
       "width": 400
      }
     },
     "output_type": "execute_result"
    }
   ],
   "source": [
    "from IPython.display import Image\n",
    "Image (filename= \"Grille.png\", width=400, height= 200)"
   ]
  },
  {
   "cell_type": "markdown",
   "metadata": {},
   "source": [
    "### ATTENTION: de construire dès le début, un programme structuré et commenté!\n",
    "**Voici des exemples à tester: dans une console, vérifier affichage et l'accès à une case de la grille:** (grille [5][3] = 2 ==> ?)"
   ]
  },
  {
   "cell_type": "code",
   "execution_count": 42,
   "metadata": {},
   "outputs": [
    {
     "name": "stdout",
     "output_type": "stream",
     "text": [
      "ligne =  [0, 0, 0, 0, 0, 0, 0, 0, 0, 0]\n"
     ]
    }
   ],
   "source": [
    "# Une ligne de 10 valeurs: une liste donc:\n",
    "ligne = [0]*10\n",
    "print (\"ligne = \",ligne)"
   ]
  },
  {
   "cell_type": "code",
   "execution_count": 43,
   "metadata": {
    "scrolled": true
   },
   "outputs": [
    {
     "name": "stdout",
     "output_type": "stream",
     "text": [
      "[[0, 0, 0, 0, 0, 0, 0, 0, 0, 0], [0, 0, 0, 0, 0, 0, 0, 0, 0, 0], [0, 0, 0, 0, 0, 0, 0, 0, 0, 0], [0, 0, 0, 0, 0, 0, 0, 0, 0, 0], [0, 0, 0, 0, 0, 0, 0, 0, 0, 0], [0, 0, 0, 0, 0, 0, 0, 0, 0, 0], [0, 0, 0, 0, 0, 0, 0, 0, 0, 0], [0, 0, 0, 0, 0, 0, 0, 0, 0, 0], [0, 0, 0, 0, 0, 0, 0, 0, 0, 0], [0, 0, 0, 0, 0, 0, 0, 0, 0, 0]]\n",
      "[[0, 0, 0, 2, 0, 0, 0, 0, 0, 0], [0, 0, 0, 2, 0, 0, 0, 0, 0, 0], [0, 0, 0, 2, 0, 0, 0, 0, 0, 0], [0, 0, 0, 2, 0, 0, 0, 0, 0, 0], [0, 0, 0, 2, 0, 0, 0, 0, 0, 0], [0, 0, 0, 2, 0, 0, 0, 0, 0, 0], [0, 0, 0, 2, 0, 0, 0, 0, 0, 0], [0, 0, 0, 2, 0, 0, 0, 0, 0, 0], [0, 0, 0, 2, 0, 0, 0, 0, 0, 0], [0, 0, 0, 2, 0, 0, 0, 0, 0, 0]]\n"
     ]
    }
   ],
   "source": [
    "\"\"\"Donc une grille de 10 lignes x 10 colonnes\"\"\"\n",
    "grille = [[0]*10]*10 # Création d'une grille\n",
    "print (grille) # Observer la structure, cela vous semble t-il satisfaisant ?\n",
    "grille [5][3] = 2\n",
    "print (grille) # Constat, est-ce toujours satisfaisant  ?\n",
    "#Non ca n'est pas satisfaisant : lignes sont affichées a la suite"
   ]
  },
  {
   "cell_type": "markdown",
   "metadata": {},
   "source": [
    "**Tester la syntaxe suivante:**"
   ]
  },
  {
   "cell_type": "code",
   "execution_count": 44,
   "metadata": {},
   "outputs": [
    {
     "name": "stdout",
     "output_type": "stream",
     "text": [
      "[[0, 0, 0, 0, 0, 0, 0, 0, 0, 0], [0, 0, 0, 0, 0, 0, 0, 0, 0, 0], [0, 0, 0, 0, 0, 0, 0, 0, 0, 0], [0, 0, 0, 0, 0, 0, 0, 0, 0, 0], [0, 0, 0, 0, 0, 0, 0, 0, 0, 0], [0, 0, 0, 0, 0, 0, 0, 0, 0, 0], [0, 0, 0, 0, 0, 0, 0, 0, 0, 0], [0, 0, 0, 0, 0, 0, 0, 0, 0, 0], [0, 0, 0, 0, 0, 0, 0, 0, 0, 0], [0, 0, 0, 0, 0, 0, 0, 0, 0, 0]]\n"
     ]
    }
   ],
   "source": [
    "grille =[] # Création d'une grille\n",
    "for i in range (10):\n",
    "    grille.append ([0]*10)\n",
    "print(grille)\n",
    "# A compléter (affichage), puis comparez avec exemple précédent. Est-ce mieux...???\n",
    "#Ce n'est pas reelement mieux"
   ]
  },
  {
   "cell_type": "markdown",
   "metadata": {},
   "source": [
    "## Testez aussi la syntaxe suivante appelée \"COMPREHENSION DE LISTE\":"
   ]
  },
  {
   "cell_type": "code",
   "execution_count": 45,
   "metadata": {},
   "outputs": [
    {
     "name": "stdout",
     "output_type": "stream",
     "text": [
      "[[0, 0, 0, 0, 0, 0, 0, 0, 0, 0], [0, 0, 0, 0, 0, 0, 0, 0, 0, 0], [0, 0, 0, 0, 0, 0, 0, 0, 0, 0], [0, 0, 0, 0, 0, 0, 0, 0, 0, 0], [0, 0, 0, 0, 0, 0, 0, 0, 0, 0], [0, 0, 0, 0, 0, 0, 0, 0, 0, 0], [0, 0, 0, 0, 0, 0, 0, 0, 0, 0], [0, 0, 0, 0, 0, 0, 0, 0, 0, 0], [0, 0, 0, 0, 0, 0, 0, 0, 0, 0], [0, 0, 0, 0, 0, 0, 0, 0, 0, 0], [0, 0, 0, 0, 0, 0, 0, 0, 0, 0]]\n"
     ]
    }
   ],
   "source": [
    "grille = [[0]*10 for i in range (11) ]\n",
    "print (grille)\n",
    "# A compléter, tester et commenter...\n"
   ]
  },
  {
   "cell_type": "markdown",
   "metadata": {},
   "source": [
    "Prévoir un affichage sous forme d'un tableau (ou matrice) de 10 x 10   (voir la boucle for...)"
   ]
  },
  {
   "cell_type": "markdown",
   "metadata": {},
   "source": [
    "## Deuxième étape:\n",
    "** Ecrire une fonction permettant d'afficher une grille avec ses repères:** 1 à 10 pour les lignes et A à J pour les colonnes (voir exemple début de paragraphe).\n",
    "\n",
    "Voici quelques indications:"
   ]
  },
  {
   "cell_type": "code",
   "execution_count": 46,
   "metadata": {},
   "outputs": [
    {
     "name": "stdout",
     "output_type": "stream",
     "text": [
      "A\n"
     ]
    }
   ],
   "source": [
    "alpha = chr (65) # A tester...\n",
    "print (alpha) \n",
    "# Commentaires ?\n",
    "#Affiche le caractere ascii correspondant"
   ]
  },
  {
   "cell_type": "markdown",
   "metadata": {},
   "source": [
    "Essayons alors la chose suivante:"
   ]
  },
  {
   "cell_type": "code",
   "execution_count": 47,
   "metadata": {},
   "outputs": [
    {
     "name": "stdout",
     "output_type": "stream",
     "text": [
      "['A', 'B', 'C', 'D', 'E', 'F', 'G', 'H', 'I', 'J']\n"
     ]
    }
   ],
   "source": [
    "colonne = [ chr (i) for i in range (65,75) ] # A tester...\n",
    "print (colonne)\n",
    "# Commentaires ?\n",
    "#affiche les caracters ascii de 65 a 75"
   ]
  },
  {
   "cell_type": "code",
   "execution_count": 48,
   "metadata": {},
   "outputs": [
    {
     "name": "stdout",
     "output_type": "stream",
     "text": [
      "A\n",
      "B\n",
      "C\n",
      "D\n",
      "E\n",
      "F\n",
      "G\n",
      "H\n",
      "I\n",
      "J\n"
     ]
    }
   ],
   "source": [
    "for i in range (10):\n",
    "    print (colonne[i])\n",
    "# Commentaires ?\n",
    "#affiche sous forme d'une seul colone les caracteres ascii"
   ]
  },
  {
   "cell_type": "code",
   "execution_count": 51,
   "metadata": {
    "scrolled": false
   },
   "outputs": [
    {
     "name": "stdout",
     "output_type": "stream",
     "text": [
      "  A  B  C  D  E  F  G  H  I  J\n",
      "\n",
      "1 [0, 0, 0, 0, 0, 0, 0, 0, 0, 0] \n",
      "\n",
      "2 [0, 0, 0, 0, 0, 0, 0, 0, 0, 0] \n",
      "\n",
      "3 [0, 0, 0, 0, 0, 0, 0, 0, 0, 0] \n",
      "\n",
      "4 [0, 0, 0, 0, 0, 0, 0, 0, 0, 0] \n",
      "\n",
      "5 [0, 0, 0, 0, 0, 0, 0, 0, 0, 0] \n",
      "\n",
      "6 [0, 0, 0, 0, 0, 0, 0, 0, 0, 0] \n",
      "\n",
      "7 [0, 0, 0, 0, 0, 0, 0, 0, 0, 0] \n",
      "\n",
      "8 [0, 0, 0, 0, 0, 0, 0, 0, 0, 0] \n",
      "\n",
      "9 [0, 0, 0, 0, 0, 0, 0, 0, 0, 0] \n",
      "\n",
      "10 [0, 0, 0, 0, 0, 0, 0, 0, 0, 0] \n",
      "\n"
     ]
    }
   ],
   "source": [
    "for i in range (10):  # A tester...\n",
    "    print (\" \",colonne[i], end=\"\")\n",
    "print(\"\\n\")\n",
    "for i in range (1,11):\n",
    "    print (i,grille[i], end=\" \")\n",
    "    print(\"\\n\")\n",
    "  \n",
    "# Et mettre en oeuvre pour obtenir une belle grille, bien identifiée!"
   ]
  },
  {
   "cell_type": "code",
   "execution_count": null,
   "metadata": {},
   "outputs": [],
   "source": []
  },
  {
   "cell_type": "markdown",
   "metadata": {},
   "source": [
    "## Troisième étape:\n",
    "**Mettre en place les bateaux de façon aléatoire:** \n",
    "\n",
    "Tout d'abord créer un \"tuple\" pour référencer \"l'armada\" et sa force:"
   ]
  },
  {
   "cell_type": "code",
   "execution_count": 38,
   "metadata": {},
   "outputs": [],
   "source": [
    " caseShips = (5, 4, 3, 3, 2)"
   ]
  },
  {
   "cell_type": "markdown",
   "metadata": {},
   "source": [
    "Ces bateaux doivent être placés sur la grille, horizontalement ou verticalement, sans déborder et sans se téléscoper!\n",
    "\n",
    "** Placement aléatoire: ** Utiliser le module \"random\""
   ]
  },
  {
   "cell_type": "code",
   "execution_count": 39,
   "metadata": {},
   "outputs": [],
   "source": [
    "### Importation du module random: ###\n",
    "import  random as rand"
   ]
  },
  {
   "cell_type": "code",
   "execution_count": 21,
   "metadata": {},
   "outputs": [
    {
     "name": "stdout",
     "output_type": "stream",
     "text": [
      "['V', 'H', 'H', 'H', 'H']\n"
     ]
    }
   ],
   "source": [
    "'''Exemple d'utilisation pour l'orientation:'''\n",
    "direction = ('H', 'V')     # H ==> Horizontal; V ==> Vertical\n",
    "orientation = []\n",
    "for i in range (len(caseShips)):\n",
    "    orientation.append (rand.choice (direction))\n",
    "print (orientation)"
   ]
  },
  {
   "cell_type": "code",
   "execution_count": 22,
   "metadata": {},
   "outputs": [
    {
     "name": "stdout",
     "output_type": "stream",
     "text": [
      "[4, 6, 4, 5, 2]\n"
     ]
    }
   ],
   "source": [
    "'''Exemple d'utilisation pour le positionnement:'''\n",
    "proue = []\n",
    "for i in range (len(caseShips)):\n",
    "    proue.append (rand.randint (0,10))\n",
    "print (proue)"
   ]
  },
  {
   "cell_type": "markdown",
   "metadata": {},
   "source": [
    "Ecrire une fonction permettant le placement de l'armada."
   ]
  }
 ],
 "metadata": {
  "kernelspec": {
   "display_name": "Python 3",
   "language": "python",
   "name": "python3"
  },
  "language_info": {
   "codemirror_mode": {
    "name": "ipython",
    "version": 3
   },
   "file_extension": ".py",
   "mimetype": "text/x-python",
   "name": "python",
   "nbconvert_exporter": "python",
   "pygments_lexer": "ipython3",
   "version": "3.7.4"
  }
 },
 "nbformat": 4,
 "nbformat_minor": 2
}
